{
  "nbformat": 4,
  "nbformat_minor": 0,
  "metadata": {
    "colab": {
      "provenance": [],
      "gpuType": "T4",
      "include_colab_link": true
    },
    "kernelspec": {
      "name": "python3",
      "display_name": "Python 3"
    },
    "accelerator": "GPU"
  },
  "cells": [
    {
      "cell_type": "markdown",
      "metadata": {
        "id": "view-in-github",
        "colab_type": "text"
      },
      "source": [
        "<a href=\"https://colab.research.google.com/github/bodorcy/hazifeladatok/blob/main/ml_5_deep_learning.ipynb\" target=\"_parent\"><img src=\"https://colab.research.google.com/assets/colab-badge.svg\" alt=\"Open In Colab\"/></a>"
      ]
    },
    {
      "cell_type": "markdown",
      "metadata": {
        "id": "CdBl2YLZIdDI"
      },
      "source": [
        "# Deep Learning\n",
        "Olvasd el az [elméleti bevezetőt](http://inf.u-szeged.hu/~rfarkas/deep_learning.html)."
      ]
    },
    {
      "cell_type": "markdown",
      "metadata": {
        "id": "X_byfuGavovd"
      },
      "source": [
        "### Futtatás GPU-n\n",
        "\n",
        "A mély neurális hálók tanítása nagyon számításigényes, viszont visszavezetve mátrixműveletekre nagyon jól párhuzamosítható GPU-n. Érdemes a Google Colab-ban is átváltani GPU-ra. Ezt az Edit>Notebook settings menüben tehetjük meg GPU-t választva hardveres gyorsításra. Ha CPU-ról átvátunk GPU-ra akkor újra kell futtatni a teljes notebookot!\n",
        "\n",
        "A Cuda egy alacsony szintű szoftverréteg mátrixműveletek GPU-n való nagyon hatékony megvalósítására. E fölé épülnek a deep learning keretrendszerek, pl.  [PyTorch](https://pytorch.org/) és a [Tensorflow](https://www.tensorflow.org/)."
      ]
    },
    {
      "cell_type": "code",
      "metadata": {
        "id": "q040XwLYboGA"
      },
      "source": [
        "### PyTorch deep learning keretrendszert használjuk: https://pytorch.org\n",
        "import torch"
      ],
      "execution_count": null,
      "outputs": []
    },
    {
      "cell_type": "code",
      "metadata": {
        "id": "J7GPqKQoJEID",
        "colab": {
          "base_uri": "https://localhost:8080/"
        },
        "outputId": "be30d6e8-20ed-4ea9-c4e6-acdbcaec1adb"
      },
      "source": [
        "### Futtatási környezet előkészítése\n",
        "\n",
        "# Cuda inicializálása\n",
        "torch.backends.cudnn.deterministic = True\n",
        "\n",
        "# a neurális hálók tanításánál a véletlenszám-generálásnak nagy szerepe van\n",
        "# érdemes a random seedet fixálni, hogy minden futtatásra ugyanazt az eredményt kapjuk\n",
        "SEED = 202004\n",
        "torch.manual_seed(SEED)\n",
        "\n",
        "device = torch.device('cuda' if torch.cuda.is_available() else 'cpu')\n",
        "device"
      ],
      "execution_count": null,
      "outputs": [
        {
          "output_type": "execute_result",
          "data": {
            "text/plain": [
              "device(type='cuda')"
            ]
          },
          "metadata": {},
          "execution_count": 2
        }
      ]
    },
    {
      "cell_type": "markdown",
      "metadata": {
        "id": "XIwFrOpCOI4b"
      },
      "source": [
        "# Szövegosztályozás mély tanulással\n",
        "\n",
        "Az [elöző](https://colab.research.google.com/drive/1Ve2FOeA7ceEgS0eqL-31CUFFT33s_PDm) órán megoldott szövegosztályozási feladatra fogunk adni itt egy mély gépi tanulási megoldást. Ugyanaz a feladat, véleményosztályozás. Ugyanazon az adatbázison, ugyanazon kiértékelési metrikát használjuk, így az eredmények összehasonlíthatóak a klasszikus gépi tanulási eredményekkel."
      ]
    },
    {
      "cell_type": "code",
      "metadata": {
        "id": "rM6TKWtgDVWa"
      },
      "source": [
        "import pandas as pd\n",
        "train_data = pd.read_csv('https://github.com/rfarkas/student_data/raw/main/sentiment/train.tsv', sep='\\t')\n",
        "test_data  = pd.read_csv('https://github.com/rfarkas/student_data/raw/main/sentiment/test.tsv', sep='\\t')"
      ],
      "execution_count": null,
      "outputs": []
    },
    {
      "cell_type": "code",
      "metadata": {
        "id": "Ea7OfijBDfsk"
      },
      "source": [
        "from sklearn.feature_extraction.text import CountVectorizer\n",
        "from sklearn.feature_extraction.text import TfidfTransformer\n",
        "vectorizer = CountVectorizer()\n",
        "cv_counts = vectorizer.fit_transform(train_data.text)\n",
        "idf_transformer = TfidfTransformer(use_idf=True).fit(cv_counts)\n",
        "features = idf_transformer.transform(cv_counts)\n",
        "test_features = idf_transformer.transform(vectorizer.transform(test_data.text))"
      ],
      "execution_count": null,
      "outputs": []
    },
    {
      "cell_type": "code",
      "source": [
        "features"
      ],
      "metadata": {
        "id": "4iqt2gpWlLbt",
        "colab": {
          "base_uri": "https://localhost:8080/"
        },
        "outputId": "c27e9cc9-a15f-4b75-b2a3-95d087d6d1cb"
      },
      "execution_count": null,
      "outputs": [
        {
          "output_type": "execute_result",
          "data": {
            "text/plain": [
              "<Compressed Sparse Row sparse matrix of dtype 'float64'\n",
              "\twith 147011 stored elements and shape (9063, 24285)>"
            ]
          },
          "metadata": {},
          "execution_count": 5
        }
      ]
    },
    {
      "cell_type": "code",
      "metadata": {
        "id": "-7hSKNsmEXew",
        "colab": {
          "base_uri": "https://localhost:8080/"
        },
        "outputId": "e655affd-5cbc-4f56-c4cb-2ef828709c62"
      },
      "source": [
        "from sklearn.linear_model import SGDClassifier\n",
        "from sklearn.metrics import accuracy_score\n",
        "model = SGDClassifier().fit(features, train_data.label)\n",
        "accuracy_score(y_true=test_data.label, y_pred=model.predict(test_features))"
      ],
      "execution_count": null,
      "outputs": [
        {
          "output_type": "execute_result",
          "data": {
            "text/plain": [
              "0.7893333333333333"
            ]
          },
          "metadata": {},
          "execution_count": 6
        }
      ]
    },
    {
      "cell_type": "markdown",
      "metadata": {
        "id": "btOMn-h6F0AV"
      },
      "source": [
        "## Egyszerű neurális hálózat"
      ]
    },
    {
      "cell_type": "code",
      "metadata": {
        "id": "NhMdy0QoGIEa"
      },
      "source": [
        "### ritka mátrixot tensor formátumra alakítjuk\n",
        "import numpy as np\n",
        "X_train_tensor = torch.from_numpy(features.todense()).float()\n",
        "X_test_tensor  = torch.from_numpy(test_features.todense()).float()"
      ],
      "execution_count": null,
      "outputs": []
    },
    {
      "cell_type": "code",
      "source": [
        "train_data.label"
      ],
      "metadata": {
        "id": "UJ3P3YCSe1ag",
        "collapsed": true,
        "colab": {
          "base_uri": "https://localhost:8080/",
          "height": 458
        },
        "outputId": "cfd484d5-5168-4ec1-c1ac-1c979839f4f7"
      },
      "execution_count": null,
      "outputs": [
        {
          "output_type": "execute_result",
          "data": {
            "text/plain": [
              "0       NEGATIVE\n",
              "1        NEUTRAL\n",
              "2       POSITIVE\n",
              "3       NEGATIVE\n",
              "4       NEGATIVE\n",
              "          ...   \n",
              "9058     NEUTRAL\n",
              "9059     NEUTRAL\n",
              "9060    POSITIVE\n",
              "9061    NEGATIVE\n",
              "9062     NEUTRAL\n",
              "Name: label, Length: 9063, dtype: object"
            ],
            "text/html": [
              "<div>\n",
              "<style scoped>\n",
              "    .dataframe tbody tr th:only-of-type {\n",
              "        vertical-align: middle;\n",
              "    }\n",
              "\n",
              "    .dataframe tbody tr th {\n",
              "        vertical-align: top;\n",
              "    }\n",
              "\n",
              "    .dataframe thead th {\n",
              "        text-align: right;\n",
              "    }\n",
              "</style>\n",
              "<table border=\"1\" class=\"dataframe\">\n",
              "  <thead>\n",
              "    <tr style=\"text-align: right;\">\n",
              "      <th></th>\n",
              "      <th>label</th>\n",
              "    </tr>\n",
              "  </thead>\n",
              "  <tbody>\n",
              "    <tr>\n",
              "      <th>0</th>\n",
              "      <td>NEGATIVE</td>\n",
              "    </tr>\n",
              "    <tr>\n",
              "      <th>1</th>\n",
              "      <td>NEUTRAL</td>\n",
              "    </tr>\n",
              "    <tr>\n",
              "      <th>2</th>\n",
              "      <td>POSITIVE</td>\n",
              "    </tr>\n",
              "    <tr>\n",
              "      <th>3</th>\n",
              "      <td>NEGATIVE</td>\n",
              "    </tr>\n",
              "    <tr>\n",
              "      <th>4</th>\n",
              "      <td>NEGATIVE</td>\n",
              "    </tr>\n",
              "    <tr>\n",
              "      <th>...</th>\n",
              "      <td>...</td>\n",
              "    </tr>\n",
              "    <tr>\n",
              "      <th>9058</th>\n",
              "      <td>NEUTRAL</td>\n",
              "    </tr>\n",
              "    <tr>\n",
              "      <th>9059</th>\n",
              "      <td>NEUTRAL</td>\n",
              "    </tr>\n",
              "    <tr>\n",
              "      <th>9060</th>\n",
              "      <td>POSITIVE</td>\n",
              "    </tr>\n",
              "    <tr>\n",
              "      <th>9061</th>\n",
              "      <td>NEGATIVE</td>\n",
              "    </tr>\n",
              "    <tr>\n",
              "      <th>9062</th>\n",
              "      <td>NEUTRAL</td>\n",
              "    </tr>\n",
              "  </tbody>\n",
              "</table>\n",
              "<p>9063 rows × 1 columns</p>\n",
              "</div><br><label><b>dtype:</b> object</label>"
            ]
          },
          "metadata": {},
          "execution_count": 9
        }
      ]
    },
    {
      "cell_type": "code",
      "metadata": {
        "id": "tosH4W2lHXV1"
      },
      "source": [
        "### PyTorch-ban még a célváltozó sem lehet diszkrét...\n",
        "### A LabelEncoder véletlenszerűen Int-eket rendel az egyes értékekhez\n",
        "from sklearn.preprocessing import LabelEncoder\n",
        "le = LabelEncoder()\n",
        "Y_train_tensor = torch.as_tensor(le.fit_transform(train_data.label))\n",
        "Y_test_tensor  = torch.as_tensor(le.transform(test_data.label))"
      ],
      "execution_count": null,
      "outputs": []
    },
    {
      "cell_type": "code",
      "metadata": {
        "id": "PyjyKTgwKcwG"
      },
      "source": [
        "### Jellemzőtér (=bemeneti réteg) dimenziói és célváltozók száma (=kimeneti réteg dimenziója)\n",
        "VOCAB_SIZE = len(vectorizer.vocabulary_)\n",
        "OUT_CLASSES = 3"
      ],
      "execution_count": null,
      "outputs": []
    },
    {
      "cell_type": "code",
      "metadata": {
        "id": "mthOAkd7IbcP",
        "colab": {
          "base_uri": "https://localhost:8080/"
        },
        "outputId": "4adc67c0-5da9-453a-a3e1-96f730b90eda"
      },
      "source": [
        "### Linear Machine, LM\n",
        "### A legegyszerűbb neurális háló (ami megegyezik a lineáris géppel)\n",
        "### a kimeneti neuron össze vannak kötve a bementiekkel (mindegyik mindegyikkel)\n",
        "\n",
        "class LM_Network(torch.nn.Module):\n",
        "     def __init__(self,vocab_size,out_classes):\n",
        "        super().__init__()\n",
        "        self.linear = torch.nn.Linear(vocab_size,out_classes)\n",
        "     def forward(self,x):\n",
        "        return self.linear(x)\n",
        "\n",
        "model = LM_Network(VOCAB_SIZE,OUT_CLASSES)\n",
        "print(model)"
      ],
      "execution_count": null,
      "outputs": [
        {
          "output_type": "stream",
          "name": "stdout",
          "text": [
            "LM_Network(\n",
            "  (linear): Linear(in_features=24285, out_features=3, bias=True)\n",
            ")\n"
          ]
        }
      ]
    },
    {
      "cell_type": "code",
      "source": [
        "# összesen ennyi paramétert kell tanítanunk:\n",
        "def count_parameters(model):\n",
        "    return sum(p.numel() for p in model.parameters() if p.requires_grad)"
      ],
      "metadata": {
        "id": "agxldfasbQAb"
      },
      "execution_count": null,
      "outputs": []
    },
    {
      "cell_type": "code",
      "source": [
        "count_parameters(model)"
      ],
      "metadata": {
        "id": "kyYC0RM6bV1D",
        "colab": {
          "base_uri": "https://localhost:8080/"
        },
        "outputId": "3420318b-9d4d-4273-a89d-3428652ac610"
      },
      "execution_count": null,
      "outputs": [
        {
          "output_type": "execute_result",
          "data": {
            "text/plain": [
              "72858"
            ]
          },
          "metadata": {},
          "execution_count": 15
        }
      ]
    },
    {
      "cell_type": "code",
      "source": [
        "#predikció a random hálóval\n",
        "model(X_train_tensor[1])"
      ],
      "metadata": {
        "id": "XS6ZyfDQbWDj",
        "colab": {
          "base_uri": "https://localhost:8080/"
        },
        "outputId": "c7470744-a611-4e6b-c84e-dbb9ef1a257b"
      },
      "execution_count": null,
      "outputs": [
        {
          "output_type": "execute_result",
          "data": {
            "text/plain": [
              "tensor([-0.0019, -0.0008,  0.0132], grad_fn=<ViewBackward0>)"
            ]
          },
          "metadata": {},
          "execution_count": 17
        }
      ]
    },
    {
      "cell_type": "code",
      "metadata": {
        "id": "qC_eyopoJ4gU",
        "colab": {
          "base_uri": "https://localhost:8080/"
        },
        "outputId": "22d6c486-a929-42a8-b2b9-48381afac620"
      },
      "source": [
        "### Multi Layer Perceptron, MLP\n",
        "### 1 rejtett réteget tartalmazó neuárlis hálózat\n",
        "\n",
        "class MLP_Network(torch.nn.Module):\n",
        "  def __init__(self,vocab_size,hidden_units,num_classes):\n",
        "      super().__init__()\n",
        "      #First fully connected layer\n",
        "      self.fc1 = torch.nn.Linear(vocab_size,hidden_units)\n",
        "      #Second fully connected layer\n",
        "      self.fc2 = torch.nn.Linear(hidden_units,num_classes)\n",
        "      #Final output of sigmoid function\n",
        "      self.sigmoid = torch.nn.Sigmoid()\n",
        "\n",
        "  def forward(self,x):\n",
        "      y1 = self.sigmoid(self.fc1(x))\n",
        "      output = self.sigmoid(self.fc2(y1))\n",
        "      return output\n",
        "\n",
        "HIDDEN_UNITS = 100\n",
        "model = MLP_Network(VOCAB_SIZE, HIDDEN_UNITS, OUT_CLASSES)\n",
        "print(model)\n",
        "print(count_parameters(model), \"tanulandó paraméter\")"
      ],
      "execution_count": null,
      "outputs": [
        {
          "output_type": "stream",
          "name": "stdout",
          "text": [
            "MLP_Network(\n",
            "  (fc1): Linear(in_features=24285, out_features=100, bias=True)\n",
            "  (fc2): Linear(in_features=100, out_features=3, bias=True)\n",
            "  (sigmoid): Sigmoid()\n",
            ")\n",
            "2428903 tanulandó paraméter\n"
          ]
        }
      ]
    },
    {
      "cell_type": "code",
      "metadata": {
        "id": "LWtXDPycDPqw"
      },
      "source": [
        "### Kiértékelő függvény\n",
        "def accuracy(preds, y):\n",
        "    max_preds = preds.argmax(dim = 1, keepdim = True) # a 3 osztályra adott kimeneti érték közül melyik a legnagyobb\n",
        "    correct = max_preds.squeeze(1).eq(y)\n",
        "    return correct.sum(dtype=float) / y.shape[0]"
      ],
      "execution_count": null,
      "outputs": []
    },
    {
      "cell_type": "code",
      "metadata": {
        "id": "6kQU_qBAFXdD"
      },
      "source": [
        "### ha az epoch végén egy független validációs halmazon is ki akarjuk értékelni a modellt:\n",
        "def evaluate(model, iterator):\n",
        "    epoch_acc = 0\n",
        "    model.eval()  # inicializálás\n",
        "    with torch.no_grad():\n",
        "        for batch in iterator:\n",
        "            # predikció\n",
        "            predictions = model(batch[0])\n",
        "            # kiértékelés\n",
        "            acc = accuracy(predictions, batch[1].long())\n",
        "            epoch_acc += acc.item()\n",
        "\n",
        "    return epoch_acc / len(iterator)"
      ],
      "execution_count": null,
      "outputs": []
    },
    {
      "cell_type": "code",
      "source": [
        "Y_test_tensor"
      ],
      "metadata": {
        "id": "MxAnpl-BzKOd"
      },
      "execution_count": null,
      "outputs": []
    },
    {
      "cell_type": "code",
      "metadata": {
        "id": "x-S6Mn9Z0J3Z"
      },
      "source": [
        "from torch.utils.data import Dataset, TensorDataset\n",
        "train_data = TensorDataset(X_train_tensor, Y_train_tensor)\n",
        "test_data  = TensorDataset(X_test_tensor,  Y_test_tensor)"
      ],
      "execution_count": null,
      "outputs": []
    },
    {
      "cell_type": "code",
      "metadata": {
        "id": "Togfr3NpkFlR"
      },
      "source": [
        "### Ha egy adatbázison akarunk végigmenni akkor ahhoz iterátort kell definiálni\n",
        "from torch.utils.data import DataLoader\n",
        "train_loader = DataLoader(train_data,batch_size=16, shuffle=True)"
      ],
      "execution_count": null,
      "outputs": []
    },
    {
      "cell_type": "code",
      "metadata": {
        "id": "QQni7CpQkLcQ",
        "colab": {
          "base_uri": "https://localhost:8080/"
        },
        "outputId": "29cb5cc0-c655-47c3-93a1-ff448b357142"
      },
      "source": [
        "# random hálózat kiértékelése az egész adatbázison\n",
        "evaluate(model, train_loader)"
      ],
      "execution_count": null,
      "outputs": [
        {
          "output_type": "execute_result",
          "data": {
            "text/plain": [
              "0.9106827916351726"
            ]
          },
          "metadata": {},
          "execution_count": 27
        }
      ]
    },
    {
      "cell_type": "code",
      "metadata": {
        "id": "Nby2dP0FDq7R"
      },
      "source": [
        "### A tanítás során többször végigmegyünk a tanító adatbázison (egy kör egy epoch)\n",
        "def train(model, iterator, optimizer, criterion):\n",
        "    # minden epoch végén ellenőrízni fogjuk az accuracyt\n",
        "    epoch_acc = 0\n",
        "\n",
        "    model.train() # inicializálás\n",
        "    for batch in iterator:\n",
        "        # predikáljuk le a tanító példákat az aktuális paraméterekkel:\n",
        "        optimizer.zero_grad()\n",
        "        predictions = model(batch[0])\n",
        "\n",
        "        # a háló aktuális paraméterivel ennyi a hiba a batchen:\n",
        "        loss = criterion(predictions, batch[1].long())\n",
        "        acc = accuracy(predictions, batch[1].long())\n",
        "\n",
        "        # hibavisszaterjesztéssel (backpropagation) javítunk a paramétereken:\n",
        "        loss.backward()\n",
        "        optimizer.step()\n",
        "\n",
        "        epoch_acc += acc.item()\n",
        "\n",
        "    return epoch_acc / len(iterator)"
      ],
      "execution_count": null,
      "outputs": []
    },
    {
      "cell_type": "code",
      "metadata": {
        "id": "nm9Vhb_EKlrd",
        "colab": {
          "base_uri": "https://localhost:8080/"
        },
        "outputId": "cac6be90-71b2-4560-9841-c2809ca4889b"
      },
      "source": [
        "### Neurális hálózat tanítása\n",
        "%%time\n",
        "NUM_EPOCHS = 10\n",
        "BATCH_SIZE = 64\n",
        "\n",
        "#Neurális háló architektúra megadása\n",
        "model = MLP_Network(VOCAB_SIZE,HIDDEN_UNITS,OUT_CLASSES)\n",
        "\n",
        "#optimalizáló eljárás\n",
        "import torch.optim as optim\n",
        "optimizer = optim.Adam(model.parameters()) # ADAM optimalizáló algoritmus\n",
        "\n",
        "#célfüggvény\n",
        "import torch.nn as nn\n",
        "loss_fun = nn.CrossEntropyLoss()\n",
        "\n",
        "iterator = DataLoader(train_data,batch_size=BATCH_SIZE, shuffle=True)\n",
        "for i in range(NUM_EPOCHS):\n",
        "   print(i, \". epoch acc:\", train(model, iterator, optimizer, loss_fun))"
      ],
      "execution_count": null,
      "outputs": [
        {
          "output_type": "stream",
          "name": "stdout",
          "text": [
            "0 . epoch acc: 0.37931112314915133\n",
            "1 . epoch acc: 0.6118127031419285\n",
            "2 . epoch acc: 0.7679216323582521\n",
            "3 . epoch acc: 0.847979302094619\n",
            "4 . epoch acc: 0.8713773022751896\n",
            "5 . epoch acc: 0.8951844077284218\n",
            "6 . epoch acc: 0.9079400279884435\n",
            "7 . epoch acc: 0.9194937251715422\n",
            "8 . epoch acc: 0.9302856401227879\n",
            "9 . epoch acc: 0.9384677455760202\n",
            "CPU times: user 36.8 s, sys: 9.25 s, total: 46 s\n",
            "Wall time: 46.3 s\n"
          ]
        }
      ]
    },
    {
      "cell_type": "code",
      "metadata": {
        "id": "rXoX91PB7fs0",
        "colab": {
          "base_uri": "https://localhost:8080/"
        },
        "outputId": "70c86366-2547-4a41-9139-36fc57e47cf2"
      },
      "source": [
        "### Kiértékelés a teszt halmazon\n",
        "test_loader = DataLoader(test_data,batch_size=16, shuffle=True)\n",
        "evaluate(model, test_loader)"
      ],
      "execution_count": null,
      "outputs": [
        {
          "output_type": "execute_result",
          "data": {
            "text/plain": [
              "0.7732712765957447"
            ]
          },
          "metadata": {},
          "execution_count": 31
        }
      ]
    },
    {
      "cell_type": "code",
      "metadata": {
        "id": "ELuCBjMC80Ji",
        "colab": {
          "base_uri": "https://localhost:8080/"
        },
        "outputId": "b574a0ee-ff90-4299-de1c-7584effa3dde"
      },
      "source": [
        "### Futtassunk mindent GPU-n!\n",
        "### Mindent át kell pakolni a GPU memóriájába...\n",
        "\n",
        "%%time\n",
        "NUM_EPOCHS = 10\n",
        "BATCH_SIZE = 64\n",
        "\n",
        "#Initialize model\n",
        "model = MLP_Network(VOCAB_SIZE,HIDDEN_UNITS,OUT_CLASSES).to(device)\n",
        "\n",
        "#Initialize optimizer\n",
        "import torch.optim as optim\n",
        "optimizer = optim.Adam(model.parameters()) # ADAM optimalizáló algoritmus\n",
        "import torch.nn as nn\n",
        "loss_fun = nn.CrossEntropyLoss().to(device)\n",
        "\n",
        "X_train_tensor = X_train_tensor.to(device)\n",
        "Y_train_tensor = Y_train_tensor.to(device)\n",
        "train_data = TensorDataset(X_train_tensor, Y_train_tensor)\n",
        "iterator = DataLoader(train_data,batch_size=BATCH_SIZE, shuffle=True)\n",
        "\n",
        "for i in range(NUM_EPOCHS):\n",
        "   print(i, \". epoch acc:\", train(model, iterator, optimizer, loss_fun))"
      ],
      "execution_count": null,
      "outputs": [
        {
          "output_type": "stream",
          "name": "stdout",
          "text": [
            "0 . epoch acc: 0.4128013271939328\n",
            "1 . epoch acc: 0.6051880191404839\n",
            "2 . epoch acc: 0.7678595612134345\n",
            "3 . epoch acc: 0.849528259299386\n",
            "4 . epoch acc: 0.8728867596605273\n",
            "5 . epoch acc: 0.894154591007584\n",
            "6 . epoch acc: 0.9066591052726617\n",
            "7 . epoch acc: 0.9193131545684363\n",
            "8 . epoch acc: 0.9303561755146263\n",
            "9 . epoch acc: 0.9395201336222463\n",
            "CPU times: user 3.65 s, sys: 252 ms, total: 3.9 s\n",
            "Wall time: 4.58 s\n"
          ]
        }
      ]
    },
    {
      "cell_type": "code",
      "metadata": {
        "id": "299v4brZFU-n"
      },
      "source": [
        "X_test_tensor = X_test_tensor.to(device)\n",
        "Y_test_tensor = Y_test_tensor.to(device)\n",
        "test_data = TensorDataset(X_test_tensor, Y_test_tensor)\n",
        "test_loader = DataLoader(test_data,batch_size=16, shuffle=True)\n",
        "evaluate(model, test_loader)"
      ],
      "execution_count": null,
      "outputs": []
    },
    {
      "cell_type": "markdown",
      "metadata": {
        "id": "aSgPc2X1vVUg"
      },
      "source": [
        "# Konvolúciós Neurális Hálózatok (CNN)\n",
        "\n",
        "Egy ún **Konvulúciós Neurális Hálózatot** fogunk építani és tanítani a szövegosztályozási feladathoz (lásd [olvasólecke](https://www.inf.u-szeged.hu/~rfarkas/ML22/deep_learning.html))."
      ]
    },
    {
      "cell_type": "markdown",
      "source": [
        "## Idősor Előrejelzés\n",
        "\n",
        "A konvolúciós hálók, amik mozgó ablakos szűrők segítségével tömörítik az információt alkalmasak képek, szövegek és idősorok feldolgozására is.\n",
        "\n",
        "A következő szakaszban idősorok előrejelzésére az American Electric Power áramszolgáltató fogyasztási adatait fogjuk használni. A cél, hogy meg tudjuk mondani a jövőben mekkora lesz a fogyasztás. Mivel egy folytonos értéket akarunk megbecsülni, ezért ez egy regressziós feladat lesz."
      ],
      "metadata": {
        "id": "G4mRENHiM0bW"
      }
    },
    {
      "cell_type": "code",
      "source": [
        "import kagglehub\n",
        "from kagglehub import KaggleDatasetAdapter\n",
        "\n",
        "import pandas as pd\n",
        "from datasets import Dataset\n",
        "from torch.utils.data import DataLoader\n",
        "\n",
        "import torch.nn as nn\n",
        "import torch.nn.functional as F"
      ],
      "metadata": {
        "id": "MsqwaEFIHvuy"
      },
      "execution_count": null,
      "outputs": []
    },
    {
      "cell_type": "code",
      "source": [
        "file_path = \"AEP_hourly.csv\"\n",
        "\n",
        "# használandó adathalmaz, áramfigyasztások óránként amerikában\n",
        "# https://www.kaggle.com/datasets/robikscube/hourly-energy-consumption\n",
        "df = kagglehub.load_dataset(\n",
        "  KaggleDatasetAdapter.PANDAS,\n",
        "  \"robikscube/hourly-energy-consumption\",\n",
        "  file_path,\n",
        ")"
      ],
      "metadata": {
        "id": "VeHjAjHaObR2"
      },
      "execution_count": null,
      "outputs": []
    },
    {
      "cell_type": "code",
      "source": [
        "df.Datetime = pd.to_datetime(df.Datetime)\n",
        "df = df.set_index('Datetime')"
      ],
      "metadata": {
        "id": "tN_6vdwjMimd"
      },
      "execution_count": null,
      "outputs": []
    },
    {
      "cell_type": "code",
      "source": [
        "df.AEP_MW.plot()"
      ],
      "metadata": {
        "id": "1f-M9Z_ULtdb"
      },
      "execution_count": null,
      "outputs": []
    },
    {
      "cell_type": "code",
      "source": [
        "df.shape"
      ],
      "metadata": {
        "id": "8FKDns33OyyQ"
      },
      "execution_count": null,
      "outputs": []
    },
    {
      "cell_type": "markdown",
      "source": [
        "### Tanító adathalmaz készítése\n",
        "\n",
        "Az idősorból két napnyi szakaszokat szedünk ki, és ezek alapján a szakaszok alapján próbáljuk megbecsülni a követkető időpont áramfogyasztását."
      ],
      "metadata": {
        "id": "0FDRO28rmuHi"
      }
    },
    {
      "cell_type": "code",
      "source": [
        "window_size = 48\n",
        "#import numpy as np\n",
        "# train halmaz\n",
        "features = []\n",
        "labels = []\n",
        "for i in range(window_size, len(df.AEP_MW)):\n",
        "    features.append([df.AEP_MW.iloc[i - window_size:i].values])\n",
        "    labels.append(df.AEP_MW.iloc[i])\n",
        "\n",
        "chunk_df = pd.DataFrame({\"features\": features, \"labels\": labels})"
      ],
      "metadata": {
        "id": "MB3ukZUjNVWj"
      },
      "execution_count": null,
      "outputs": []
    },
    {
      "cell_type": "code",
      "source": [
        "chunk_df.features[0]"
      ],
      "metadata": {
        "id": "hgXM6j7MW5EF"
      },
      "execution_count": null,
      "outputs": []
    },
    {
      "cell_type": "markdown",
      "source": [
        "A chunkok alapján elkészítjük a tanító és a kiértékelő adathalmazt."
      ],
      "metadata": {
        "id": "qWGQr7ngnerk"
      }
    },
    {
      "cell_type": "code",
      "source": [
        "from torch.utils.data import DataLoader\n",
        "from torch.nn.utils.rnn import pad_sequence\n",
        "from torch import Tensor\n",
        "import torch.nn.functional as F\n",
        "import torch\n",
        "\n",
        "\n",
        "def collate_batch(batch):\n",
        "    label_list, text_list = [], []\n",
        "    for row in batch:\n",
        "        # Jellemzők átalakítása\n",
        "        text_list.append(Tensor(row[\"features\"]))\n",
        "\n",
        "        # Címkék átalakítása\n",
        "        label_list.append(row[\"labels\"])\n",
        "\n",
        "    labels_tensor = Tensor(label_list).to(device)\n",
        "\n",
        "    feature_vec_tensor = Tensor(np.array(text_list)).to(device)\n",
        "\n",
        "    return labels_tensor, feature_vec_tensor\n"
      ],
      "metadata": {
        "id": "bt3_b_-4bm2T"
      },
      "execution_count": null,
      "outputs": []
    },
    {
      "cell_type": "code",
      "source": [
        "# basic train/test split\n",
        "split_point = int(len(df) * 0.8)\n",
        "train_df = chunk_df[:split_point]\n",
        "test_df = chunk_df[split_point:]\n",
        "\n",
        "train_dataset = Dataset.from_pandas(train_df)\n",
        "test_dataset = Dataset.from_pandas(test_df)\n",
        "\n",
        "train_loader = DataLoader(train_dataset, batch_size=64, shuffle=True,\n",
        "                          collate_fn=collate_batch)\n",
        "\n",
        "test_loader = DataLoader(test_dataset, batch_size=64, shuffle=False,\n",
        "                          collate_fn=collate_batch)"
      ],
      "metadata": {
        "id": "jk1rBx5iC5_K"
      },
      "execution_count": null,
      "outputs": []
    },
    {
      "cell_type": "code",
      "source": [
        "print(x := next(iter(train_loader)))\n",
        "print(Tensor(x[1]).shape)\n",
        "print(Tensor(x[0]).shape)"
      ],
      "metadata": {
        "id": "SQZ-vT9bciJ8",
        "collapsed": true
      },
      "execution_count": null,
      "outputs": []
    },
    {
      "cell_type": "markdown",
      "source": [
        "### Baseline"
      ],
      "metadata": {
        "id": "79ZI1z7OzO3T"
      }
    },
    {
      "cell_type": "code",
      "source": [
        "from sklearn.metrics import mean_absolute_error\n",
        "from sklearn.dummy import DummyRegressor\n",
        "\n",
        "# baseline regressor\n",
        "dummy_reg = DummyRegressor(strategy=\"mean\")\n",
        "dummy_reg.fit(train_df.features, train_df.labels)\n",
        "pred_y = dummy_reg.predict(test_df.features)\n",
        "\n",
        "mean_absolute_error(test_df.labels, pred_y)"
      ],
      "metadata": {
        "id": "hXdwNX3cvfxO"
      },
      "execution_count": null,
      "outputs": []
    },
    {
      "cell_type": "markdown",
      "metadata": {
        "id": "S3B8Y6_M6mAD"
      },
      "source": [
        "### CNN szerkezetének megadása\n",
        "\n",
        "Minden feladatra saját hálózatot építhetünk az egyes neuron rétegek megadásával. Ehhez egy új osztályt kell definiálni, legalább konstruktorral és forward() metódussal."
      ]
    },
    {
      "cell_type": "code",
      "metadata": {
        "id": "awtIIIGcvQl3"
      },
      "source": [
        "class CNN(nn.Module):\n",
        "    def __init__(self, input_channels, n_filters, kernel_size, output_dim):\n",
        "        super().__init__()\n",
        "\n",
        "        # konvolúciós réteg\n",
        "        self.conv = nn.Conv1d(\n",
        "            in_channels = input_channels,  # mennyi csatornát adunk be: pl. 1, ha egyváltozós a sor, vagy >1, ha több feature/ablak\n",
        "            out_channels = n_filters,     # hány különböző konvolúciós szűrőt alkalmazunk\n",
        "            kernel_size = kernel_size     # \"ablakméret\": hány időlépést nézünk egyszerre\n",
        "        )\n",
        "\n",
        "        # kimeneti réteg, ami egy egyszerű lineáris réteg\n",
        "        self.fc = nn.Linear(n_filters, output_dim)\n",
        "\n",
        "    def forward(self, x):\n",
        "        # x: [batch_size, csatornák, seq_len]\n",
        "\n",
        "        # Konvolúciós réteg + ReLU aktiváció\n",
        "        conved = F.relu(self.conv(x))\n",
        "        # conved = [batch_size, n_filters, seq_len - kernel_size + 1]\n",
        "\n",
        "        # tovább tömörítjük:\n",
        "        pooled = F.max_pool1d(conved, conved.shape[2]).squeeze(2)\n",
        "        # print(\"pooled\", pooled.size())\n",
        "        # pooled = [batch_size, n_filters]\n",
        "\n",
        "        # a háló kimenetét a lineáris réteg számolja ki\n",
        "        return self.fc(pooled)"
      ],
      "execution_count": null,
      "outputs": []
    },
    {
      "cell_type": "code",
      "metadata": {
        "id": "NI6KvHos_mpJ"
      },
      "source": [
        "#---------------<params>---------------\n",
        "\n",
        "input_channels = 1\n",
        "n_filters = 40\n",
        "kernel_size = 12\n",
        "output_dim = 1 # mivel regresszióról beszélünk csak 1 neuronra van szükgésünk kiementként\n",
        "\n",
        "#--------------------------------------\n",
        "\n",
        "# modell példányosítása\n",
        "model = CNN(input_channels=input_channels, n_filters=n_filters, kernel_size=kernel_size, output_dim=output_dim)\n",
        "\n",
        "# ha lehet használjunk gpu-t\n",
        "device = torch.device('cuda' if torch.cuda.is_available() else 'cpu')\n",
        "model.to(device)"
      ],
      "execution_count": null,
      "outputs": []
    },
    {
      "cell_type": "code",
      "metadata": {
        "id": "W0o_A0biBBOm"
      },
      "source": [
        "# a háló rétegei:\n",
        "print(model)\n",
        "\n",
        "# összesen ennyi paramétert kell tanítanunk:\n",
        "def count_parameters(model):\n",
        "    return sum(p.numel() for p in model.parameters() if p.requires_grad)\n",
        "\n",
        "print(count_parameters(model), \"tanulandó változó\")"
      ],
      "execution_count": null,
      "outputs": []
    },
    {
      "cell_type": "markdown",
      "metadata": {
        "id": "pMF5u7GCCTLF"
      },
      "source": [
        "### CNN tanítása\n",
        "\n",
        "A neurális hálók tanítása egy optimalizációs feladat megoldásával törénik. Úgy akrjuk beállítani a háló súlyait, hogy minimalizáljuk a háló kimenet és a tényleges megjóslandó érték közti eltérést.\n",
        "\n",
        "A hiba számítására az átlagos négyzetes hibát (Mean Squared Error, MSE) fogjuk használni."
      ]
    },
    {
      "cell_type": "code",
      "source": [
        "# optimizer és hibafüggvény\n",
        "optimizer = torch.optim.Adam(model.parameters(), lr=0.01)\n",
        "criterion = nn.MSELoss()"
      ],
      "metadata": {
        "id": "zYfRZPkppfjm"
      },
      "execution_count": null,
      "outputs": []
    },
    {
      "cell_type": "code",
      "metadata": {
        "id": "U4Zq489z56ok"
      },
      "source": [
        "### A tanítás során többször végigmegyünk a tanító adatbázison (egy kör egy epoch)\n",
        "\n",
        "def cnn_train(model, iterator, optimizer, criterion):\n",
        "    model.train()\n",
        "    total_loss = 0\n",
        "    all_preds = []\n",
        "    all_y = []\n",
        "    for batch in train_loader:\n",
        "        X = batch[1].to(device)\n",
        "        y = batch[0].to(device)\n",
        "\n",
        "        optimizer.zero_grad()\n",
        "        preds = model(X).squeeze(1)\n",
        "\n",
        "        all_preds.extend(preds.tolist())\n",
        "        all_y.extend(y.tolist())\n",
        "\n",
        "        loss = criterion(preds, y)\n",
        "        loss.backward()\n",
        "        optimizer.step()\n",
        "        total_loss += loss.item()\n",
        "\n",
        "    return total_loss / len(train_loader), all_y, all_preds\n",
        "\n",
        "def cnn_eval(preds, test_loader):\n",
        "    model.eval()\n",
        "    total_loss = 0\n",
        "\n",
        "    all_preds = []\n",
        "    all_y = []\n",
        "\n",
        "    with torch.no_grad():\n",
        "        for batch in test_loader:\n",
        "            X = batch[1].to(device)\n",
        "            y = batch[0].to(device)\n",
        "            preds = model(X).squeeze(1)\n",
        "\n",
        "            all_preds.extend(preds.tolist())\n",
        "            all_y.extend(y.tolist())\n",
        "\n",
        "            loss = criterion(preds, y)\n",
        "            total_loss += loss.item()\n",
        "\n",
        "    return total_loss / len(test_loader), all_y, all_preds"
      ],
      "execution_count": null,
      "outputs": []
    },
    {
      "cell_type": "code",
      "metadata": {
        "id": "JlFwR_y-GOSV"
      },
      "source": [
        "%%time\n",
        "### mehet a tanítás!\n",
        "\n",
        "NUM_EPOCHS = 10\n",
        "\n",
        "for i in range(NUM_EPOCHS):\n",
        "    train_loss, train_labels, train_preds = cnn_train(model, train_loader, optimizer, criterion)\n",
        "    test_loss, test_labels, test_preds = cnn_eval(model, test_loader)\n",
        "\n",
        "    train_mae = mean_absolute_error(train_labels, train_preds)\n",
        "    test_mae = mean_absolute_error(test_labels, test_preds)\n",
        "\n",
        "    print(i, \". epoch train MAE:\", train_mae, \" test MAE:\", test_mae)"
      ],
      "execution_count": null,
      "outputs": []
    },
    {
      "cell_type": "markdown",
      "source": [
        "Predikciók vizsgálata."
      ],
      "metadata": {
        "id": "kXOzZAAx2oNt"
      }
    },
    {
      "cell_type": "code",
      "source": [
        "pd.DataFrame({\"test_labels\": train_labels, \"test_preds\": train_preds})[:100].plot()"
      ],
      "metadata": {
        "id": "5loAG8Rr2JxY"
      },
      "execution_count": null,
      "outputs": []
    }
  ]
}
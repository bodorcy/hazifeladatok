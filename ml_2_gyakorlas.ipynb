{
  "nbformat": 4,
  "nbformat_minor": 0,
  "metadata": {
    "colab": {
      "provenance": [],
      "include_colab_link": true
    },
    "kernelspec": {
      "name": "python3",
      "display_name": "Python 3"
    },
    "language_info": {
      "name": "python"
    }
  },
  "cells": [
    {
      "cell_type": "markdown",
      "metadata": {
        "id": "view-in-github",
        "colab_type": "text"
      },
      "source": [
        "<a href=\"https://colab.research.google.com/github/bodorcy/hazifeladatok/blob/main/ml_2_gyakorlas.ipynb\" target=\"_parent\"><img src=\"https://colab.research.google.com/assets/colab-badge.svg\" alt=\"Open In Colab\"/></a>"
      ]
    },
    {
      "cell_type": "markdown",
      "source": [
        "# Egyszerű döntési szabályok - gyakorlás\n",
        "\n",
        "Az [előző órán](https://colab.research.google.com/drive/1X1MWF3ODdGoJWF9a8QQUQf8rN-W3l0z3) már megismert Titanic adatbázist fogjuk használni.\n",
        "\n"
      ],
      "metadata": {
        "id": "HKOuWEZAU7Z0"
      }
    },
    {
      "cell_type": "code",
      "source": [
        "# openml-hez szükséges csomag\n",
        "from sklearn.datasets import fetch_openml\n",
        "# Később még szükség lesz rá\n",
        "import pandas as pd\n",
        "\n",
        "# Adatbázis betöltése az OpenML-ből\n",
        "titanic = fetch_openml(name=\"titanic\", version=1, as_frame=True)\n",
        "\n",
        "# Jellemzővektorok Pandas DataFrame formátumban\n",
        "df = titanic.data\n",
        "\n",
        "# A célváltozót (y) is hozzárendeljük\n",
        "df[\"survived\"] = titanic.target"
      ],
      "metadata": {
        "id": "xSTT0Q7IMgix"
      },
      "execution_count": 1,
      "outputs": []
    },
    {
      "cell_type": "code",
      "source": [],
      "metadata": {
        "id": "RIMj54h9bwmQ"
      },
      "execution_count": null,
      "outputs": []
    },
    {
      "cell_type": "markdown",
      "source": [
        "# Alapstatisztikák\n",
        "Határozd meg folytonos változók alapstatisztikáit (átlag, szórás, min, max, medián)."
      ],
      "metadata": {
        "id": "vpm6Ry0pTVO_"
      }
    },
    {
      "cell_type": "code",
      "source": [],
      "metadata": {
        "id": "SpgbCKVSTNqI"
      },
      "execution_count": null,
      "outputs": []
    },
    {
      "cell_type": "markdown",
      "source": [
        "Határozd meg, hogy az utasok neme milyen kapcsolatban van a túléléssel."
      ],
      "metadata": {
        "id": "TDT8FRdyp9uu"
      }
    },
    {
      "cell_type": "code",
      "source": [],
      "metadata": {
        "id": "WvgcBAeHUQmQ"
      },
      "execution_count": null,
      "outputs": []
    },
    {
      "cell_type": "markdown",
      "source": [
        "# Vizualizáció\n",
        "\n",
        "Jelenítsd meg az életkor histogramját. Az intervallumként használt oszlopok száma legyen 20."
      ],
      "metadata": {
        "id": "kkE0vkHPXoCl"
      }
    },
    {
      "cell_type": "code",
      "source": [],
      "metadata": {
        "id": "FZkpEboXbd3V"
      },
      "execution_count": null,
      "outputs": []
    },
    {
      "cell_type": "markdown",
      "source": [
        "Ábrázold az életkor és a jegyárak kapcsolat.\n",
        " - Csak a 300 dollár alatti jegyárakat vedd figyelembe. (A kiugró értékek elrontják az ábrát.)\n",
        " - Készíts egy scatter plot-ot ez alapjá.\n",
        "\n",
        "Van-e összefüggés a kor és a jegyár között?"
      ],
      "metadata": {
        "id": "KEXnYAxNhKVV"
      }
    },
    {
      "cell_type": "code",
      "source": [],
      "metadata": {
        "id": "wrpBOh43hYJ_"
      },
      "execution_count": null,
      "outputs": []
    },
    {
      "cell_type": "markdown",
      "source": [
        "Ábrázold, hogy az eltérő utasosztályokon (pclass) milyen volt az emberek korának az eloszlása.\n",
        "\n",
        "Ehhez használj violin plotot, ami az adatokat egyszerre ábrázolja egy folytonos hisztogram és egy box plot formájában.\n",
        "\n",
        "Violin plot készítésére a legegyszerűbben módszer a [seaborn könyvtár](https://seaborn.pydata.org/generated/seaborn.violinplot.html) használata.\n",
        "\n",
        "Fontos paraméterek:\n",
        " - data: a DataFrame, amit használni akarunk\n",
        " - x: oszlopnév: ami alapján csoportosítani szeretnénk\n",
        " - y: oszlopnév: aminek az eloszlását meg akarjuk jeleníteni\n",
        "\n",
        "Példa:\n",
        "\n",
        "``` python\n",
        "import seaborn as sns\n",
        "\n",
        "sns.violinplot(x='...', y='...', data=...)\n",
        "```\n",
        "![link text](https://seaborn.pydata.org/archive/0.11/_images/seaborn-violinplot-2.png)\n",
        "\n",
        "Van-e kapcsolat az utasosztály és az életkor között?"
      ],
      "metadata": {
        "id": "p4eC6jfQbef4"
      }
    },
    {
      "cell_type": "code",
      "source": [],
      "metadata": {
        "id": "uZMd3mlSUqMR"
      },
      "execution_count": null,
      "outputs": []
    },
    {
      "cell_type": "markdown",
      "source": [
        "# Döntési szabályok - Osztályozás\n",
        "\n",
        "Legyen a túlélés a célváltozó, amit predikálni szeretnénk.\n",
        "\n",
        "Készíts egy döntési szabályt, ami azt mondja, hogy mindenki, aki az elsőosztályon tartózkodott túlélte az utat, mindenki más meghalt.\n",
        "\n",
        "Mekkora az így kapott rendszer accuracy-je?"
      ],
      "metadata": {
        "id": "PAD2jf2qcQuN"
      }
    },
    {
      "cell_type": "code",
      "source": [],
      "metadata": {
        "id": "2TVeOiLijQxt"
      },
      "execution_count": null,
      "outputs": []
    },
    {
      "cell_type": "markdown",
      "source": [
        "Mekkora lenne az accuracy, ha mindig a leggyakoribb osztályt választanánk?"
      ],
      "metadata": {
        "id": "i4GW9dU2kGHb"
      }
    },
    {
      "cell_type": "code",
      "source": [],
      "metadata": {
        "id": "8ZDirw5NkFi2"
      },
      "execution_count": null,
      "outputs": []
    },
    {
      "cell_type": "markdown",
      "source": [
        "Készíts saját döntési szabályokat az osztályozási feladatra. Légy kreatív.\n",
        "\n",
        "Mi a legmagasabb accuracy, amit el tudtál érni?"
      ],
      "metadata": {
        "id": "vabvrv6KpUT6"
      }
    },
    {
      "cell_type": "code",
      "source": [],
      "metadata": {
        "id": "47gfSXEvuOsy"
      },
      "execution_count": null,
      "outputs": []
    },
    {
      "cell_type": "markdown",
      "source": [
        "# Döntési szabályok - Regresszió\n",
        "\n",
        "Legyen a célváltozó a jegyár, próbálj minél jobb döntési szabályt készíteni a többi jellenző alapján.\n",
        "\n",
        "Készítsétek el az alábbi döntési szabályt:\n",
        " - a jegyár legyenaz adott utasosztály jegyárainak az átlaga.\n",
        "\n",
        "Értékeljétek ki a Mean Absolute Error-t."
      ],
      "metadata": {
        "id": "BLXnW87mq4ed"
      }
    },
    {
      "cell_type": "code",
      "source": [],
      "metadata": {
        "id": "niVhWD9msRGa"
      },
      "execution_count": null,
      "outputs": []
    },
    {
      "cell_type": "markdown",
      "source": [
        "# Jellemző kiválasztás\n",
        "\n",
        "A lenti kódrészlet az adatbázisunkat szétszedi jellemzőkre és egy osztálycímkére (túlélte-e a katasztrófát).\n",
        "\n",
        "A jellemzőket hozzátok gépi tanuló rendszerek által emészthető formába, ehhez:\n",
        " - alakítsátok numerikussá az adatot one hot encoding segítségével\n",
        " - a hiányzó adatokat töltsétek fel 0-kkal\n",
        "\n",
        "Határozzátok meg a Chi2 statisztika melyik jellemzőt tartja a legfontosabbnak?"
      ],
      "metadata": {
        "id": "PdE8zbXvk0tp"
      }
    },
    {
      "cell_type": "code",
      "source": [
        "features = df[['pclass', 'name', 'sex', 'age', 'sibsp', 'parch', 'ticket', 'fare',\n",
        "             'cabin', 'embarked', 'boat', 'body', 'home.dest']]\n",
        "label = df['survived']\n"
      ],
      "metadata": {
        "id": "wejeIq6co1aI"
      },
      "execution_count": null,
      "outputs": []
    },
    {
      "cell_type": "code",
      "source": [],
      "metadata": {
        "id": "5hNGO1GStmz2"
      },
      "execution_count": null,
      "outputs": []
    }
  ]
}
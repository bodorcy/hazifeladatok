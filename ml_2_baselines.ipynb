{
  "cells": [
    {
      "cell_type": "markdown",
      "metadata": {
        "id": "view-in-github",
        "colab_type": "text"
      },
      "source": [
        "<a href=\"https://colab.research.google.com/github/bodorcy/hazifeladatok/blob/main/ml_2_baselines.ipynb\" target=\"_parent\"><img src=\"https://colab.research.google.com/assets/colab-badge.svg\" alt=\"Open In Colab\"/></a>"
      ]
    },
    {
      "cell_type": "markdown",
      "metadata": {
        "id": "LzOer_iTOvu1"
      },
      "source": [
        "# Egyszerű döntési szabályok\n",
        "\n",
        "A statisztikai elemzések és vizualizációk definícióit, illetve hogy miért szükségesek ezek a gépi tanuláshoz, olvasd el a kapcsolodó [előadás olvasóleckében](http://www.inf.u-szeged.hu/~rfarkas/ML20/baseline.html)!\n",
        "\n",
        "Ebben a leckében a [student performance](https://archive.ics.uci.edu/ml/datasets/student+performance#) adatbázist fogjuk használni. Ebben egy középiskolai kurzus diákjai adták meg adataikat és azt akarjuk predikálni, hogy sikeresen el fogják-e tudni végezni a kurzust."
      ]
    },
    {
      "cell_type": "code",
      "execution_count": null,
      "metadata": {
        "id": "5XIA_lMSNTIo"
      },
      "outputs": [],
      "source": [
        "import pandas as pd"
      ]
    },
    {
      "cell_type": "code",
      "execution_count": null,
      "metadata": {
        "id": "YK6LBxqNKXLx"
      },
      "outputs": [],
      "source": [
        "# töltsük be az adatbázist\n",
        "df = pd.read_csv(\"https://raw.githubusercontent.com/arunk13/MSDA-Assignments/master/IS607Fall2015/Assignment3/student-por.csv\")\n",
        "df.head() # nézzünk rá!"
      ]
    },
    {
      "cell_type": "markdown",
      "metadata": {
        "id": "EDOQ5xqD6Ixv"
      },
      "source": [
        "valami nagyon nem stimmel...\n",
        "\n",
        "A read_csv vesszőt vár oszlopelválasztó karakternek, itt meg pontosvessző van (ezért egy oszlopnak tekintette az egész sort).\n",
        "\n",
        "\n",
        "[`read_csv`](https://pandas.pydata.org/pandas-docs/stable/reference/api/pandas.read_csv.html) dokumentáció"
      ]
    },
    {
      "cell_type": "code",
      "execution_count": null,
      "metadata": {
        "id": "uqWmQYuYOsdI"
      },
      "outputs": [],
      "source": [
        "df = pd.read_csv(\"https://raw.githubusercontent.com/arunk13/MSDA-Assignments/master/IS607Fall2015/Assignment3/student-por.csv\", sep=';') # sep argumentummal megadhatjuk az elválasztó karaktert\n",
        "df.head() # mindjárt szebben néz ki :)"
      ]
    },
    {
      "cell_type": "code",
      "execution_count": null,
      "metadata": {
        "id": "KeV2y2i8sY28"
      },
      "outputs": [],
      "source": [
        "df.shape # adatbázis méretei"
      ]
    },
    {
      "cell_type": "code",
      "execution_count": null,
      "metadata": {
        "id": "s1DlQ_gdt13Y"
      },
      "outputs": [],
      "source": [
        "df.columns # oszlopok nevei"
      ]
    },
    {
      "cell_type": "markdown",
      "metadata": {
        "id": "mnbMcGsL6yB2"
      },
      "source": [
        "## Jellemzők/változók leíró statisztikái"
      ]
    },
    {
      "cell_type": "code",
      "execution_count": null,
      "metadata": {
        "id": "2MIcV8SJRQ3q"
      },
      "outputs": [],
      "source": [
        "df.Fjob"
      ]
    },
    {
      "cell_type": "code",
      "execution_count": null,
      "metadata": {
        "id": "DN0eib-c7AS5"
      },
      "outputs": [],
      "source": [
        "# diszkrét változó értékeinek gyakorisága\n",
        "df.Fjob.value_counts() # Fjob a diák apjának foglalkozása"
      ]
    },
    {
      "cell_type": "code",
      "execution_count": null,
      "metadata": {
        "id": "geqPtW0M8Dg_"
      },
      "outputs": [],
      "source": [
        "# egy folytonos változó statisztikái\n",
        "print('Min:', df.age.min())\n",
        "print('Max:', df.age.max())\n",
        "print('Átlag:', df.age.mean())\n",
        "print('Medián:', df.age.median())\n",
        "print('Szórás:', df.age.std())"
      ]
    },
    {
      "cell_type": "code",
      "execution_count": null,
      "metadata": {
        "id": "bKLYu2gD8F76"
      },
      "outputs": [],
      "source": [
        "# A describe() az összes folytonos jellemző alapstatisztikáiról ad egy táblázatot (eredménye egy DataFrame)\n",
        "df.describe()"
      ]
    },
    {
      "cell_type": "markdown",
      "metadata": {
        "id": "1I6Rip4TRHrQ"
      },
      "source": [
        "## Vizualizáció pythonban\n",
        "\n",
        "A leggyorsabban úgy szerezhetünk az adatbázisunkról benyomásokat, ha vizualizáljuk az egyes változókat, illetve az egyes jellemzők és a célváltozó közötti összefüggéseket. A python notebookok egyből, helyben megjelenítik az ábrákat, ami az adatelemzést igen gyorssá és interaktívvá teszi.\n",
        "\n",
        "Bővebben a python adatvizualizációról [itt](https://pandas.pydata.org/pandas-docs/stable/visualization.html) olvashatsz."
      ]
    },
    {
      "cell_type": "code",
      "execution_count": null,
      "metadata": {
        "id": "cyvk82lCP6VG"
      },
      "outputs": [],
      "source": [
        "# kategórikus változó hisztogramja\n",
        "df.Fjob.hist()"
      ]
    },
    {
      "cell_type": "code",
      "execution_count": null,
      "metadata": {
        "id": "1uO0u2yRoHXh"
      },
      "outputs": [],
      "source": [
        "df.sex.value_counts()"
      ]
    },
    {
      "cell_type": "code",
      "execution_count": null,
      "metadata": {
        "id": "BDV8QzZY-qxJ"
      },
      "outputs": [],
      "source": [
        "# itt egy tortadiagrammon jelenítjük meg a diszkrét változó eloszlását\n",
        "df.sex.value_counts().plot.pie(figsize=(6, 6)) # figsize-at nagyobb képeket is készíthetünk"
      ]
    },
    {
      "cell_type": "code",
      "execution_count": null,
      "metadata": {
        "id": "dBOdFPZiQvbc"
      },
      "outputs": [],
      "source": [
        "# folytonos változó hisztogramja\n",
        "df.age.hist()"
      ]
    },
    {
      "cell_type": "code",
      "execution_count": null,
      "metadata": {
        "id": "CSiZa2wi_SS1"
      },
      "outputs": [],
      "source": [
        "# a hist() alapértelmezettként 10 egyenlő méretű intervallumra osztja az értékkészletet\n",
        "# jelen esetben 8 értékünk van csak, ésszerű 8 intervallumra osztani\n",
        "df.age.hist(bins=8) # bins az intervallumok száma"
      ]
    },
    {
      "cell_type": "code",
      "execution_count": null,
      "metadata": {
        "id": "7OaZ6Kj4_0Ks"
      },
      "outputs": [],
      "source": [
        "# a vizualizációt kedvünkre testreszabhatjuk!\n",
        "df.age.hist(bins=8, color='c', edgecolor='k', alpha=0.65) # itt például az oszlopok színét, keretét és átlátszóságát állítjuk be"
      ]
    },
    {
      "cell_type": "code",
      "execution_count": null,
      "metadata": {
        "id": "qdJ3rLKzAiY8"
      },
      "outputs": [],
      "source": [
        "# ha simán a plot()-ot hívjuk meg numerikus jellemzőre, az mint idősor rajzolja ki\n",
        "df.age.plot()"
      ]
    },
    {
      "cell_type": "markdown",
      "source": [
        "### Boxplot\n",
        "a boxplot folytonos változó jellemzésére egy hasznos eszköz,  \n",
        "[lásd](https://matplotlib.org/stable/api/_as_gen/matplotlib.pyplot.boxplot.html)"
      ],
      "metadata": {
        "id": "svUDjeM6XkNW"
      }
    },
    {
      "cell_type": "code",
      "execution_count": null,
      "metadata": {
        "id": "dj1QvoJFYWRF"
      },
      "outputs": [],
      "source": [
        "df.age.plot.box()"
      ]
    },
    {
      "cell_type": "code",
      "execution_count": null,
      "metadata": {
        "id": "_-EnPcHgBMtT"
      },
      "outputs": [],
      "source": [
        "# összes folytonos változó boxplotja egymás mellett\n",
        "df.loc[:,'G1':'G3'].plot.box(figsize=(10,5)) # a három teszteredményt szeretnénk egymás mellett látni"
      ]
    },
    {
      "cell_type": "markdown",
      "metadata": {
        "id": "sPJ45qK_CLs0"
      },
      "source": [
        "## Konstans baseline\n",
        "\n",
        "Legyen a predikciós feladatunk most egy osztályozási feladat, ahol a két osztályunk (`G3` a záró teszten elért pontszám):\n",
        "\n",
        "*megfelelt* ha `G3>=10` és\n",
        "\n",
        "*nem felelt meg* ha `G3<10`"
      ]
    },
    {
      "cell_type": "code",
      "execution_count": null,
      "metadata": {
        "id": "vXnPbg5v6CQr",
        "collapsed": true
      },
      "outputs": [],
      "source": [
        "df.G3>=10"
      ]
    },
    {
      "cell_type": "code",
      "execution_count": null,
      "metadata": {
        "id": "zlcL85_mDuW4"
      },
      "outputs": [],
      "source": [
        "# vegyünk fel egy új oszlopot az osztályozási feladatnak\n",
        "df['megfelelt'] = df.G3>=10\n",
        "df.tail()"
      ]
    },
    {
      "cell_type": "code",
      "execution_count": null,
      "metadata": {
        "id": "r0YtwdD-EA7F"
      },
      "outputs": [],
      "source": [
        "df.megfelelt.value_counts()"
      ]
    },
    {
      "cell_type": "markdown",
      "metadata": {
        "id": "G32VERKlEOmw"
      },
      "source": [
        "Az adatbázisban jóval több megfelelt címkéjű egyedet láttunk. Ezért a leggyakoribb osztály (most frequent class) baseline mindig a megfelelt=True címkét fogja predikálni.\n",
        "\n",
        "Értékeljük ki ezt az egyszerű döntési szabályt!\n",
        "Osztályozási feladatokra használhatjuk a találati arányt (accuracy) mint kiértékelési metrika:"
      ]
    },
    {
      "cell_type": "code",
      "execution_count": null,
      "metadata": {
        "id": "R8D7G7pRHNRD"
      },
      "outputs": [],
      "source": [
        "print(\"accuracy:\", df.megfelelt.value_counts()[True] / len(df) )"
      ]
    },
    {
      "cell_type": "markdown",
      "metadata": {
        "id": "5-qiK8cqCceF"
      },
      "source": [
        "Ha regressziós feladatként fogalmazzuk meg, azaz a végső teszt pontszámát akarjuk megjósolni, akkor a baseline lehet a tanító adatbázison a célváltozó átlaga."
      ]
    },
    {
      "cell_type": "code",
      "execution_count": null,
      "metadata": {
        "id": "H5kkSoi0JacZ"
      },
      "outputs": [],
      "source": [
        "df.G3.mean() # G3 a folytonos célváltozó, átlaga a konstans dummy predikció:"
      ]
    },
    {
      "cell_type": "code",
      "execution_count": null,
      "metadata": {
        "id": "wjsKqqfRTn-7"
      },
      "outputs": [],
      "source": [
        "# vizualizáljuk ezt a baselinet!\n",
        "# ha egy ábrára több dolgot akarunk kirajzolni a matplotlib.pyplot-hoz kellhet visszanyúlni\n",
        "import matplotlib.pyplot as plt\n",
        "\n",
        "plt.hist(df.G3, bins=20, color='c', edgecolor='k', alpha=0.65)\n",
        "# ax utasítások \"rárajzolnak\" a meglévő plotra. vline egy függőleges vonal.\n",
        "plt.axvline(df.G3.mean(), color='k', linestyle='dashed', linewidth=1) # ... aminek a színét, szaggatottságát és vastagságát is formázzuk"
      ]
    },
    {
      "cell_type": "code",
      "execution_count": null,
      "metadata": {
        "id": "aUxJ4brNTZSJ",
        "collapsed": true
      },
      "outputs": [],
      "source": [
        "pred = df.G3.mean()\n",
        "# regressziónál a kiértékelési metrika lehet az eltérések (predikciós hiba) abszolútértékének átlaga (Mean Absolute Error, MAE)\n",
        "print('MAE:', (df.G3 - pred).abs().mean())"
      ]
    },
    {
      "cell_type": "code",
      "source": [
        "(df.G3 - pred).abs()"
      ],
      "metadata": {
        "id": "_PeGSsEtodme"
      },
      "execution_count": null,
      "outputs": []
    },
    {
      "cell_type": "markdown",
      "metadata": {
        "id": "0eRHMLLWEhaq"
      },
      "source": [
        "## Döntési szabály egyetlen jellemző alapján\n",
        "\n",
        "Válaszzunk ki egy jellemzőt és írjunk (\"kézzel\") egyszerű döntési szabályt, ami ezen egyetlen jellemző érétke alapján hoz döntést.\n"
      ]
    },
    {
      "cell_type": "markdown",
      "metadata": {
        "id": "VzUWyD-CJ9i1"
      },
      "source": [
        "### Osztályozási döntés kategórikus jellemző alapján"
      ]
    },
    {
      "cell_type": "markdown",
      "metadata": {
        "id": "OHTsFsKuD9m7"
      },
      "source": [
        "Két diszkrét változó közti kapcsolatot könnyen megérthetjük a kereszttáblájukból, ami a két jellemző egyes értékeinek együttes előfordulásának gyakoriságát tartalmazza:"
      ]
    },
    {
      "cell_type": "code",
      "execution_count": null,
      "metadata": {
        "id": "lmqS4T9A_XS5"
      },
      "outputs": [],
      "source": [
        "# két diszkrét változó értékeinek együttelőfordulási gyakoriságai\n",
        "pd.crosstab(df.higher, df.Fjob)"
      ]
    },
    {
      "cell_type": "code",
      "execution_count": null,
      "metadata": {
        "id": "1Om9SsyHA6Hb"
      },
      "outputs": [],
      "source": [
        "# vizualizálhatjuk is a kereszttáblát\n",
        "pd.crosstab(df.Fjob, df.megfelelt).plot(kind='bar', stacked=False)"
      ]
    },
    {
      "cell_type": "code",
      "execution_count": null,
      "metadata": {
        "id": "X_ZKWaonLzKU"
      },
      "outputs": [],
      "source": [
        "# legyen a döntési szabályunk: HA XXX==YY AKKOR false EGYÉBKÉNT true\n",
        "pred = df.higher == \"yes\""
      ]
    },
    {
      "cell_type": "code",
      "execution_count": null,
      "metadata": {
        "id": "U5tW5XDdOceU"
      },
      "outputs": [],
      "source": [
        "print(\"accuracy:\", (pred == df.megfelelt).sum() / len(df))"
      ]
    },
    {
      "cell_type": "markdown",
      "metadata": {
        "id": "2uFJF4ceFkD8"
      },
      "source": [
        "### Osztályozási szabály folytonos változó alapján\n",
        "\n",
        "Ha osztályozási döntést akarunk hozni egy folytonos jellemző alapján akkor egy folytonos és egy diszkrét valószínűségi változó kapcsolatának elemzésére van szükség."
      ]
    },
    {
      "cell_type": "markdown",
      "metadata": {
        "id": "WdfD9ULK9ayo"
      },
      "source": [
        "Ha egy diszkrét változó különböző értékeire külön-külöm szeretnénk statisztikákat számolni, csoportosíthatjuk a rekordokat a változó értékei szerint:"
      ]
    },
    {
      "cell_type": "code",
      "execution_count": null,
      "metadata": {
        "id": "2ENiryMcGlPw"
      },
      "outputs": [],
      "source": [
        "df.groupby('megfelelt').mean(numeric_only=True) # megfelelt változó egyes értékeire csoportosított elemek csoportátlaga"
      ]
    },
    {
      "cell_type": "code",
      "execution_count": null,
      "metadata": {
        "id": "qIpJ0t7K9x9c"
      },
      "outputs": [],
      "source": [
        "df.groupby(['megfelelt','Dalc']).mean(numeric_only=True) # egyszerre több változó szerint is csoportosíthatunk (Descartes szorzat)"
      ]
    },
    {
      "cell_type": "code",
      "execution_count": null,
      "metadata": {
        "id": "UEHNNCDgCFHN"
      },
      "outputs": [],
      "source": [
        "# egy lehetőség a diszkrét változó értékeire bontani az adathalmazt\n",
        "# majd a részhalmazokra számított hisztogramokat megjeleníteni\n",
        "df.Dalc.hist(bins=10, by=df.megfelelt) # a by a groupby (csoportosítás) rövid megfelelője"
      ]
    },
    {
      "cell_type": "code",
      "execution_count": null,
      "metadata": {
        "id": "Ygs-fUAcQsT4"
      },
      "outputs": [],
      "source": [
        "# A két hisztogramot egyetlen ábrára is elhelyezzhetjük\n",
        "# Szűrjük le a megfelelt diszkrét változó értékeire az egyedeket.\n",
        "# A két részhalmazban kirajzoljuk az age hisztogramját.\n",
        "plt.hist(df.Dalc[df.megfelelt==True], bins=5, alpha=0.5, label='megfelelt') # alpha az áttetszőséget jelenti\n",
        "plt.hist(df.Dalc[df.megfelelt==False], bins=5, alpha=0.5, label='nem felelt meg')\n",
        "plt.legend(loc='upper right') # színek jelentésének magyarázata az ábrára"
      ]
    },
    {
      "cell_type": "code",
      "execution_count": null,
      "metadata": {
        "id": "nKlOwv0zZPob"
      },
      "outputs": [],
      "source": [
        "# egy másik lehetőség, hogy a diszkrét változó értékei szerinti csoportokat boxploton ábrázoljuk\n",
        "df.boxplot(column='age', by='megfelelt') # a diszkrét változó értékei szerint csoportosított boxok"
      ]
    },
    {
      "cell_type": "code",
      "execution_count": null,
      "metadata": {
        "id": "h9a4OigpRnWH"
      },
      "outputs": [],
      "source": [
        "# legyen a döntési szabályunk: HA Dalc > 4 AKKOR false EGYÉBKÉNT true\n",
        "pred = ~(df.Dalc>4)\n",
        "print(\"accuracy:\", (pred == df.megfelelt).sum() / len(df))"
      ]
    },
    {
      "cell_type": "markdown",
      "metadata": {
        "id": "Xx8EFJd4R6Jp"
      },
      "source": [
        "### Regressziós szabály diszkrét változó alapján\n",
        "\n",
        "Ha regressziós döntést akarunk hozni egy diszkrét jellemző alapján akkor is egy folytonos és egy diszkrét valószínűségi változó kapcsolatának elemzésére van szükség."
      ]
    },
    {
      "cell_type": "code",
      "source": [
        "df.groupby('school').G3.mean()"
      ],
      "metadata": {
        "id": "LllSUCAuSa6t"
      },
      "execution_count": null,
      "outputs": []
    },
    {
      "cell_type": "code",
      "source": [
        "pred = [ df.groupby('school').G3.mean()[x]  for x in df['school'] ]\n",
        "pred"
      ],
      "metadata": {
        "id": "8cuRsk1uUHlm",
        "collapsed": true
      },
      "execution_count": null,
      "outputs": []
    },
    {
      "cell_type": "code",
      "source": [
        "print('MAE:', (df.G3 - pred).abs().mean() )"
      ],
      "metadata": {
        "id": "rzgVycEvS7Zx"
      },
      "execution_count": null,
      "outputs": []
    },
    {
      "cell_type": "markdown",
      "metadata": {
        "id": "wOQopYO-Dv8F"
      },
      "source": [
        "### Regressziós szabály folytonos változó alapján"
      ]
    },
    {
      "cell_type": "markdown",
      "metadata": {
        "id": "mrS_CyUonplD"
      },
      "source": [
        "Ebben az adatbázisban kevés az igazi folytonos változó, ezért térjünk vissza a [survey adatbázisra](https://stat.ethz.ch/R-manual/R-devel/library/MASS/html/survey.html)."
      ]
    },
    {
      "cell_type": "code",
      "execution_count": null,
      "metadata": {
        "id": "S0MR9YgacVOl"
      },
      "outputs": [],
      "source": [
        "df_survey = pd.read_csv(\"https://raw.github.com/vincentarelbundock/Rdatasets/master/csv/MASS/survey.csv\")\n",
        "df_survey.head()"
      ]
    },
    {
      "cell_type": "code",
      "execution_count": null,
      "metadata": {
        "id": "oWKxYKmhEi94"
      },
      "outputs": [],
      "source": [
        "# scatter plot\n",
        "df_survey.plot.scatter('Wr.Hnd','Height') # író kéz mérete és magasság kapcsolata"
      ]
    },
    {
      "cell_type": "code",
      "execution_count": null,
      "metadata": {
        "id": "Zmadz8y4fzQc"
      },
      "outputs": [],
      "source": [
        "# összes folytonos változó páronkénti scatter plotja\n",
        "from pandas.plotting import scatter_matrix\n",
        "scatter_matrix(df_survey, alpha=0.5, figsize=(10, 10), diagonal='kde')"
      ]
    },
    {
      "cell_type": "code",
      "execution_count": null,
      "metadata": {
        "id": "S_7PBTcsCH2R"
      },
      "outputs": [],
      "source": [
        "# Folytonos változók páronkénti korrelációjának kiszámítása\n",
        "df_survey[[\"Wr.Hnd\", \"NW.Hnd\", \"Age\", \"Height\"]].corr()"
      ]
    },
    {
      "cell_type": "markdown",
      "metadata": {
        "id": "Homs-jhDHnZz"
      },
      "source": [
        "Figyeljük meg, hogy az iró és nem író kéz méretei közt igen erős (0.948), míg a kézméret és testmagasság közt kevésbé erős korreláció (~0.6) figyelhető meg."
      ]
    },
    {
      "cell_type": "markdown",
      "metadata": {
        "id": "bsxaON-kqR2F"
      },
      "source": [
        "Értékeljük ki és hasonlítsuk össze a két baseline megoldásunkat!"
      ]
    },
    {
      "cell_type": "code",
      "execution_count": null,
      "metadata": {
        "id": "DoVUMeHWUrjx"
      },
      "outputs": [],
      "source": [
        "# konstans baseline\n",
        "pred = df_survey['Wr.Hnd'].mean()\n",
        "print('MAE:', (df_survey['Wr.Hnd'] - pred).abs().mean())"
      ]
    },
    {
      "cell_type": "code",
      "execution_count": null,
      "metadata": {
        "colab": {
          "background_save": true
        },
        "id": "j1b1mwtEFP_l"
      },
      "outputs": [],
      "source": [
        "(df_survey.Height / df_survey['Wr.Hnd'])"
      ]
    },
    {
      "cell_type": "code",
      "execution_count": null,
      "metadata": {
        "id": "BGc_i5W4SKWV"
      },
      "outputs": [],
      "source": [
        "# ha a Wr.Hnd megjóslása lenne a regressziós feladat, akkor egy baseline predikciós szabály lehetne a magássából becslés:\n",
        "ratio = (df_survey.Height / df_survey['Wr.Hnd']).mean()\n",
        "pred = df_survey.Height / ratio\n",
        "print('MAE:', (df_survey['Wr.Hnd'] - pred).abs().mean())"
      ]
    },
    {
      "cell_type": "code",
      "execution_count": null,
      "metadata": {
        "id": "EWHfTbfmQ1Rz"
      },
      "outputs": [],
      "source": [
        "ratio"
      ]
    },
    {
      "cell_type": "markdown",
      "metadata": {
        "id": "9pqrRxN_UwTi"
      },
      "source": [
        "# sklearn\n",
        "\n",
        "Számtalan gépi tanulási könyvtár létezik, de mi ezen a kurzuson a [Scikit-learn, másnéven sklearn](http://scikit-learn.org/stable/index.html) python csomagot fogjuk használni."
      ]
    },
    {
      "cell_type": "code",
      "source": [
        "df = pd.read_csv(\"https://raw.githubusercontent.com/arunk13/MSDA-Assignments/master/IS607Fall2015/Assignment3/student-por.csv\", sep=';')\n",
        "X = df[[\"age\", 'famrel', 'freetime', 'goout', 'Dalc', 'Walc', 'health', 'absences', 'G1', 'G2',]]"
      ],
      "metadata": {
        "id": "pijUJuDjgHwl"
      },
      "execution_count": null,
      "outputs": []
    },
    {
      "cell_type": "markdown",
      "metadata": {
        "id": "vjmOM5rErj3l"
      },
      "source": [
        "### Osztályozási baselineok"
      ]
    },
    {
      "cell_type": "code",
      "source": [
        "y=df.G3>=10 #diszkrét célváltozó"
      ],
      "metadata": {
        "id": "OMDSSiCUgqUr"
      },
      "execution_count": null,
      "outputs": []
    },
    {
      "cell_type": "code",
      "execution_count": null,
      "metadata": {
        "id": "qKVPpyjTFKML"
      },
      "outputs": [],
      "source": [
        "from sklearn.dummy import DummyClassifier\n",
        "# baseline classifier\n",
        "#strategies : {“most_frequent”, “prior”, “stratified”, “uniform”, “constant”}\n",
        "dummy_clf = DummyClassifier(strategy=\"most_frequent\")\n",
        "dummy_clf.fit(X, y)"
      ]
    },
    {
      "cell_type": "code",
      "execution_count": null,
      "metadata": {
        "id": "UKeDdIONG4Jy",
        "collapsed": true
      },
      "outputs": [],
      "source": [
        "dummy_preds = dummy_clf.predict(X)\n",
        "dummy_preds"
      ]
    },
    {
      "cell_type": "code",
      "execution_count": null,
      "metadata": {
        "id": "Hx0gfVoMHlEC"
      },
      "outputs": [],
      "source": [
        "from sklearn.metrics import accuracy_score\n",
        "accuracy_score(y, dummy_preds)"
      ]
    },
    {
      "cell_type": "markdown",
      "metadata": {
        "id": "Vy4jMfTdrb4u"
      },
      "source": [
        "### Regressziós baselineok"
      ]
    },
    {
      "cell_type": "code",
      "source": [
        "y = df[\"G3\"]"
      ],
      "metadata": {
        "id": "flwYT0_1hP1d"
      },
      "execution_count": null,
      "outputs": []
    },
    {
      "cell_type": "code",
      "execution_count": null,
      "metadata": {
        "id": "OXFG7bp1BXav"
      },
      "outputs": [],
      "source": [
        "from sklearn.dummy import DummyRegressor"
      ]
    },
    {
      "cell_type": "code",
      "execution_count": null,
      "metadata": {
        "id": "wlqdgmKeBYYl"
      },
      "outputs": [],
      "source": [
        "# baseline regressor\n",
        "# stragéiák amik közül választhatunk: {“mean”, “median”, “quantile”, “constant”}\n",
        "dummy_reg = DummyRegressor(strategy=\"mean\")\n",
        "dummy_reg.fit(X, y)\n",
        "pred_y = dummy_reg.predict(X)"
      ]
    },
    {
      "cell_type": "code",
      "execution_count": null,
      "metadata": {
        "id": "JR1BD8VOBmvB"
      },
      "outputs": [],
      "source": [
        "from sklearn.metrics import mean_absolute_error\n",
        "mean_absolute_error(y, pred_y)"
      ]
    },
    {
      "cell_type": "markdown",
      "metadata": {
        "id": "QuD5-LtfxEOj"
      },
      "source": [
        "# Jellemző kiválasztás\n",
        "\n",
        "Léteznek olyan statisztikák, amelyek a jellemzőket értékelik (pontozzák) a szerint, hogy mennyi információt szolgáltat a célváltozóra. Ezek segítségével kiválaszthatunk (feature selection) néhány erős jellemzőt, amik felett\n",
        "\n",
        "\n",
        "\n",
        "*   kézi szabályrendszert írunk vagy\n",
        "*   gépi tanuló megoldásnak segítünk a zajos/haszontalan jellemzőktől megszabadulni.\n",
        "\n"
      ]
    },
    {
      "cell_type": "code",
      "source": [
        "y=df.G3>=10 #diszkrét célváltozó\n",
        "from sklearn.preprocessing import add_dummy_feature\n",
        "X_noisy = add_dummy_feature(X,value=1)\n",
        "print(X_noisy[:3])"
      ],
      "metadata": {
        "id": "xGIQxMNmX_mv"
      },
      "execution_count": null,
      "outputs": []
    },
    {
      "cell_type": "code",
      "source": [
        "from sklearn.feature_selection import VarianceThreshold, SelectKBest, chi2, SelectPercentile"
      ],
      "metadata": {
        "id": "zkCEWyg7YsBM"
      },
      "execution_count": null,
      "outputs": []
    },
    {
      "cell_type": "code",
      "execution_count": null,
      "metadata": {
        "id": "zBPqQTr2MiAa"
      },
      "outputs": [],
      "source": [
        "vt = VarianceThreshold(threshold=0.1) #csak a feature értékeit nézi (a célváltozót nem), ezeket unsupervised feature selection-nek is hívják\n",
        "x_filtered = vt.fit_transform(X_noisy)\n",
        "print(x_filtered[:3])"
      ]
    },
    {
      "cell_type": "code",
      "execution_count": null,
      "metadata": {
        "id": "-cvPhkpIOTiP"
      },
      "outputs": [],
      "source": [
        "sb = SelectKBest(chi2, k=2) #a feature hatását a célváltozóra számszerűsíti, ezeket supervised feature selection-nek is hívják\n",
        "x_k_best=sb.fit_transform(X,y)\n",
        "print(x_k_best[:3])"
      ]
    },
    {
      "cell_type": "code",
      "source": [
        "sb.get_feature_names_out()"
      ],
      "metadata": {
        "id": "i7SFLr7-iWMj"
      },
      "execution_count": null,
      "outputs": []
    },
    {
      "cell_type": "code",
      "execution_count": null,
      "metadata": {
        "id": "lsrVfGczQzh4"
      },
      "outputs": [],
      "source": [
        "sp = SelectPercentile(chi2, percentile=50)\n",
        "x_k_best=sp.fit_transform(X,y)\n",
        "print(x_k_best[:3])"
      ]
    },
    {
      "cell_type": "markdown",
      "metadata": {
        "id": "Lvx4p_s-P4aY"
      },
      "source": [
        "Részletesebben: https://www.geeksforgeeks.org/chi-square-test-for-feature-selection-mathematical-explanation/"
      ]
    },
    {
      "cell_type": "code",
      "execution_count": null,
      "metadata": {
        "id": "k2Jbg_FfssTd"
      },
      "outputs": [],
      "source": [
        "# Ha regressziós feladat\n",
        "y = df[\"G3\"]\n",
        "from sklearn.feature_selection import f_regression\n",
        "sb = SelectKBest(f_regression, k=3)"
      ]
    },
    {
      "cell_type": "code",
      "source": [
        "x_k_best=sb.fit_transform(X, y)\n",
        "x_k_best[:3]"
      ],
      "metadata": {
        "id": "bwyOeJh7ank-"
      },
      "execution_count": null,
      "outputs": []
    },
    {
      "cell_type": "code",
      "execution_count": null,
      "metadata": {
        "id": "jqhuJiKLBSd7"
      },
      "outputs": [],
      "source": [
        "sb.get_feature_names_out()"
      ]
    }
  ],
  "metadata": {
    "colab": {
      "provenance": [],
      "include_colab_link": true
    },
    "kernelspec": {
      "display_name": "Python 3",
      "name": "python3"
    }
  },
  "nbformat": 4,
  "nbformat_minor": 0
}